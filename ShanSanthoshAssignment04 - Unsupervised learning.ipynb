{
 "cells": [
  {
   "cell_type": "code",
   "execution_count": 1,
   "id": "b83be907",
   "metadata": {},
   "outputs": [],
   "source": [
    "import numpy as np\n",
    "import pandas as pd\n",
    "import matplotlib.pyplot as plt\n",
    "import seaborn as sns"
   ]
  },
  {
   "cell_type": "code",
   "execution_count": 2,
   "id": "8db9c4f1",
   "metadata": {},
   "outputs": [
    {
     "data": {
      "text/html": [
       "<div>\n",
       "<style scoped>\n",
       "    .dataframe tbody tr th:only-of-type {\n",
       "        vertical-align: middle;\n",
       "    }\n",
       "\n",
       "    .dataframe tbody tr th {\n",
       "        vertical-align: top;\n",
       "    }\n",
       "\n",
       "    .dataframe thead th {\n",
       "        text-align: right;\n",
       "    }\n",
       "</style>\n",
       "<table border=\"1\" class=\"dataframe\">\n",
       "  <thead>\n",
       "    <tr style=\"text-align: right;\">\n",
       "      <th></th>\n",
       "      <th>Alcohol</th>\n",
       "      <th>Malic_Acid</th>\n",
       "      <th>Ash</th>\n",
       "      <th>Ash_Alcanity</th>\n",
       "      <th>Magnesium</th>\n",
       "      <th>Total_Phenols</th>\n",
       "      <th>Flavanoids</th>\n",
       "      <th>Nonflavanoid_Phenols</th>\n",
       "      <th>Proanthocyanins</th>\n",
       "      <th>Color_Intensity</th>\n",
       "      <th>Hue</th>\n",
       "      <th>OD280</th>\n",
       "      <th>Proline</th>\n",
       "    </tr>\n",
       "  </thead>\n",
       "  <tbody>\n",
       "    <tr>\n",
       "      <th>0</th>\n",
       "      <td>14.23</td>\n",
       "      <td>1.71</td>\n",
       "      <td>2.43</td>\n",
       "      <td>15.6</td>\n",
       "      <td>127</td>\n",
       "      <td>2.80</td>\n",
       "      <td>3.06</td>\n",
       "      <td>0.28</td>\n",
       "      <td>2.29</td>\n",
       "      <td>5.64</td>\n",
       "      <td>1.04</td>\n",
       "      <td>3.92</td>\n",
       "      <td>1065</td>\n",
       "    </tr>\n",
       "    <tr>\n",
       "      <th>1</th>\n",
       "      <td>13.20</td>\n",
       "      <td>1.78</td>\n",
       "      <td>2.14</td>\n",
       "      <td>11.2</td>\n",
       "      <td>100</td>\n",
       "      <td>2.65</td>\n",
       "      <td>2.76</td>\n",
       "      <td>0.26</td>\n",
       "      <td>1.28</td>\n",
       "      <td>4.38</td>\n",
       "      <td>1.05</td>\n",
       "      <td>3.40</td>\n",
       "      <td>1050</td>\n",
       "    </tr>\n",
       "    <tr>\n",
       "      <th>2</th>\n",
       "      <td>13.16</td>\n",
       "      <td>2.36</td>\n",
       "      <td>2.67</td>\n",
       "      <td>18.6</td>\n",
       "      <td>101</td>\n",
       "      <td>2.80</td>\n",
       "      <td>3.24</td>\n",
       "      <td>0.30</td>\n",
       "      <td>2.81</td>\n",
       "      <td>5.68</td>\n",
       "      <td>1.03</td>\n",
       "      <td>3.17</td>\n",
       "      <td>1185</td>\n",
       "    </tr>\n",
       "    <tr>\n",
       "      <th>3</th>\n",
       "      <td>14.37</td>\n",
       "      <td>1.95</td>\n",
       "      <td>2.50</td>\n",
       "      <td>16.8</td>\n",
       "      <td>113</td>\n",
       "      <td>3.85</td>\n",
       "      <td>3.49</td>\n",
       "      <td>0.24</td>\n",
       "      <td>2.18</td>\n",
       "      <td>7.80</td>\n",
       "      <td>0.86</td>\n",
       "      <td>3.45</td>\n",
       "      <td>1480</td>\n",
       "    </tr>\n",
       "    <tr>\n",
       "      <th>4</th>\n",
       "      <td>13.24</td>\n",
       "      <td>2.59</td>\n",
       "      <td>2.87</td>\n",
       "      <td>21.0</td>\n",
       "      <td>118</td>\n",
       "      <td>2.80</td>\n",
       "      <td>2.69</td>\n",
       "      <td>0.39</td>\n",
       "      <td>1.82</td>\n",
       "      <td>4.32</td>\n",
       "      <td>1.04</td>\n",
       "      <td>2.93</td>\n",
       "      <td>735</td>\n",
       "    </tr>\n",
       "  </tbody>\n",
       "</table>\n",
       "</div>"
      ],
      "text/plain": [
       "   Alcohol  Malic_Acid   Ash  Ash_Alcanity  Magnesium  Total_Phenols  \\\n",
       "0    14.23        1.71  2.43          15.6        127           2.80   \n",
       "1    13.20        1.78  2.14          11.2        100           2.65   \n",
       "2    13.16        2.36  2.67          18.6        101           2.80   \n",
       "3    14.37        1.95  2.50          16.8        113           3.85   \n",
       "4    13.24        2.59  2.87          21.0        118           2.80   \n",
       "\n",
       "   Flavanoids  Nonflavanoid_Phenols  Proanthocyanins  Color_Intensity   Hue  \\\n",
       "0        3.06                  0.28             2.29             5.64  1.04   \n",
       "1        2.76                  0.26             1.28             4.38  1.05   \n",
       "2        3.24                  0.30             2.81             5.68  1.03   \n",
       "3        3.49                  0.24             2.18             7.80  0.86   \n",
       "4        2.69                  0.39             1.82             4.32  1.04   \n",
       "\n",
       "   OD280  Proline  \n",
       "0   3.92     1065  \n",
       "1   3.40     1050  \n",
       "2   3.17     1185  \n",
       "3   3.45     1480  \n",
       "4   2.93      735  "
      ]
     },
     "execution_count": 2,
     "metadata": {},
     "output_type": "execute_result"
    }
   ],
   "source": [
    "data=pd.read_csv(r\"C:\\Users\\HP\\Downloads\\Wine_clust.csv\")\n",
    "data.head()"
   ]
  },
  {
   "cell_type": "markdown",
   "id": "ad0f7e7c",
   "metadata": {},
   "source": [
    "# EDA"
   ]
  },
  {
   "cell_type": "code",
   "execution_count": 3,
   "id": "fb288e0e",
   "metadata": {},
   "outputs": [
    {
     "data": {
      "text/plain": [
       "Alcohol                 0\n",
       "Malic_Acid              0\n",
       "Ash                     0\n",
       "Ash_Alcanity            0\n",
       "Magnesium               0\n",
       "Total_Phenols           0\n",
       "Flavanoids              0\n",
       "Nonflavanoid_Phenols    0\n",
       "Proanthocyanins         0\n",
       "Color_Intensity         0\n",
       "Hue                     0\n",
       "OD280                   0\n",
       "Proline                 0\n",
       "dtype: int64"
      ]
     },
     "execution_count": 3,
     "metadata": {},
     "output_type": "execute_result"
    }
   ],
   "source": [
    "data.isna().sum()"
   ]
  },
  {
   "cell_type": "code",
   "execution_count": 4,
   "id": "1ec9b50a",
   "metadata": {},
   "outputs": [
    {
     "data": {
      "text/plain": [
       "(178, 13)"
      ]
     },
     "execution_count": 4,
     "metadata": {},
     "output_type": "execute_result"
    }
   ],
   "source": [
    "data.shape"
   ]
  },
  {
   "cell_type": "code",
   "execution_count": 5,
   "id": "a0c22f74",
   "metadata": {},
   "outputs": [
    {
     "data": {
      "text/plain": [
       "pandas.core.frame.DataFrame"
      ]
     },
     "execution_count": 5,
     "metadata": {},
     "output_type": "execute_result"
    }
   ],
   "source": [
    "type(data)"
   ]
  },
  {
   "cell_type": "code",
   "execution_count": 143,
   "id": "986d7892",
   "metadata": {},
   "outputs": [
    {
     "data": {
      "text/html": [
       "<div>\n",
       "<style scoped>\n",
       "    .dataframe tbody tr th:only-of-type {\n",
       "        vertical-align: middle;\n",
       "    }\n",
       "\n",
       "    .dataframe tbody tr th {\n",
       "        vertical-align: top;\n",
       "    }\n",
       "\n",
       "    .dataframe thead th {\n",
       "        text-align: right;\n",
       "    }\n",
       "</style>\n",
       "<table border=\"1\" class=\"dataframe\">\n",
       "  <thead>\n",
       "    <tr style=\"text-align: right;\">\n",
       "      <th></th>\n",
       "      <th>Alcohol</th>\n",
       "      <th>Malic_Acid</th>\n",
       "      <th>Ash</th>\n",
       "      <th>Ash_Alcanity</th>\n",
       "      <th>Magnesium</th>\n",
       "      <th>Total_Phenols</th>\n",
       "      <th>Flavanoids</th>\n",
       "      <th>Nonflavanoid_Phenols</th>\n",
       "      <th>Proanthocyanins</th>\n",
       "      <th>Color_Intensity</th>\n",
       "      <th>Hue</th>\n",
       "      <th>OD280</th>\n",
       "      <th>Proline</th>\n",
       "    </tr>\n",
       "  </thead>\n",
       "  <tbody>\n",
       "    <tr>\n",
       "      <th>count</th>\n",
       "      <td>161.000000</td>\n",
       "      <td>161.000000</td>\n",
       "      <td>161.000000</td>\n",
       "      <td>161.000000</td>\n",
       "      <td>161.000000</td>\n",
       "      <td>161.000000</td>\n",
       "      <td>161.000000</td>\n",
       "      <td>161.000000</td>\n",
       "      <td>161.000000</td>\n",
       "      <td>161.000000</td>\n",
       "      <td>161.000000</td>\n",
       "      <td>161.000000</td>\n",
       "      <td>161.000000</td>\n",
       "    </tr>\n",
       "    <tr>\n",
       "      <th>mean</th>\n",
       "      <td>13.034596</td>\n",
       "      <td>2.318199</td>\n",
       "      <td>2.364658</td>\n",
       "      <td>19.300621</td>\n",
       "      <td>98.590062</td>\n",
       "      <td>2.280435</td>\n",
       "      <td>2.026894</td>\n",
       "      <td>0.359006</td>\n",
       "      <td>1.538758</td>\n",
       "      <td>5.033913</td>\n",
       "      <td>0.956932</td>\n",
       "      <td>2.619876</td>\n",
       "      <td>753.819876</td>\n",
       "    </tr>\n",
       "    <tr>\n",
       "      <th>std</th>\n",
       "      <td>0.791422</td>\n",
       "      <td>1.053406</td>\n",
       "      <td>0.241922</td>\n",
       "      <td>2.974149</td>\n",
       "      <td>12.401347</td>\n",
       "      <td>0.628964</td>\n",
       "      <td>0.981421</td>\n",
       "      <td>0.121821</td>\n",
       "      <td>0.513838</td>\n",
       "      <td>2.155207</td>\n",
       "      <td>0.217376</td>\n",
       "      <td>0.713409</td>\n",
       "      <td>317.816297</td>\n",
       "    </tr>\n",
       "    <tr>\n",
       "      <th>min</th>\n",
       "      <td>11.410000</td>\n",
       "      <td>0.740000</td>\n",
       "      <td>1.700000</td>\n",
       "      <td>11.200000</td>\n",
       "      <td>70.000000</td>\n",
       "      <td>0.980000</td>\n",
       "      <td>0.340000</td>\n",
       "      <td>0.130000</td>\n",
       "      <td>0.410000</td>\n",
       "      <td>1.280000</td>\n",
       "      <td>0.540000</td>\n",
       "      <td>1.270000</td>\n",
       "      <td>278.000000</td>\n",
       "    </tr>\n",
       "    <tr>\n",
       "      <th>25%</th>\n",
       "      <td>12.370000</td>\n",
       "      <td>1.610000</td>\n",
       "      <td>2.230000</td>\n",
       "      <td>17.200000</td>\n",
       "      <td>88.000000</td>\n",
       "      <td>1.700000</td>\n",
       "      <td>1.200000</td>\n",
       "      <td>0.270000</td>\n",
       "      <td>1.240000</td>\n",
       "      <td>3.270000</td>\n",
       "      <td>0.790000</td>\n",
       "      <td>2.000000</td>\n",
       "      <td>502.000000</td>\n",
       "    </tr>\n",
       "    <tr>\n",
       "      <th>50%</th>\n",
       "      <td>13.070000</td>\n",
       "      <td>1.860000</td>\n",
       "      <td>2.360000</td>\n",
       "      <td>19.000000</td>\n",
       "      <td>98.000000</td>\n",
       "      <td>2.320000</td>\n",
       "      <td>2.130000</td>\n",
       "      <td>0.340000</td>\n",
       "      <td>1.480000</td>\n",
       "      <td>4.800000</td>\n",
       "      <td>0.960000</td>\n",
       "      <td>2.780000</td>\n",
       "      <td>675.000000</td>\n",
       "    </tr>\n",
       "    <tr>\n",
       "      <th>75%</th>\n",
       "      <td>13.690000</td>\n",
       "      <td>3.100000</td>\n",
       "      <td>2.540000</td>\n",
       "      <td>21.000000</td>\n",
       "      <td>106.000000</td>\n",
       "      <td>2.800000</td>\n",
       "      <td>2.900000</td>\n",
       "      <td>0.430000</td>\n",
       "      <td>1.870000</td>\n",
       "      <td>6.200000</td>\n",
       "      <td>1.120000</td>\n",
       "      <td>3.180000</td>\n",
       "      <td>1020.000000</td>\n",
       "    </tr>\n",
       "    <tr>\n",
       "      <th>max</th>\n",
       "      <td>14.830000</td>\n",
       "      <td>5.190000</td>\n",
       "      <td>2.920000</td>\n",
       "      <td>27.000000</td>\n",
       "      <td>134.000000</td>\n",
       "      <td>3.880000</td>\n",
       "      <td>3.930000</td>\n",
       "      <td>0.660000</td>\n",
       "      <td>2.910000</td>\n",
       "      <td>10.680000</td>\n",
       "      <td>1.450000</td>\n",
       "      <td>4.000000</td>\n",
       "      <td>1680.000000</td>\n",
       "    </tr>\n",
       "  </tbody>\n",
       "</table>\n",
       "</div>"
      ],
      "text/plain": [
       "          Alcohol  Malic_Acid         Ash  Ash_Alcanity   Magnesium  \\\n",
       "count  161.000000  161.000000  161.000000    161.000000  161.000000   \n",
       "mean    13.034596    2.318199    2.364658     19.300621   98.590062   \n",
       "std      0.791422    1.053406    0.241922      2.974149   12.401347   \n",
       "min     11.410000    0.740000    1.700000     11.200000   70.000000   \n",
       "25%     12.370000    1.610000    2.230000     17.200000   88.000000   \n",
       "50%     13.070000    1.860000    2.360000     19.000000   98.000000   \n",
       "75%     13.690000    3.100000    2.540000     21.000000  106.000000   \n",
       "max     14.830000    5.190000    2.920000     27.000000  134.000000   \n",
       "\n",
       "       Total_Phenols  Flavanoids  Nonflavanoid_Phenols  Proanthocyanins  \\\n",
       "count     161.000000  161.000000            161.000000       161.000000   \n",
       "mean        2.280435    2.026894              0.359006         1.538758   \n",
       "std         0.628964    0.981421              0.121821         0.513838   \n",
       "min         0.980000    0.340000              0.130000         0.410000   \n",
       "25%         1.700000    1.200000              0.270000         1.240000   \n",
       "50%         2.320000    2.130000              0.340000         1.480000   \n",
       "75%         2.800000    2.900000              0.430000         1.870000   \n",
       "max         3.880000    3.930000              0.660000         2.910000   \n",
       "\n",
       "       Color_Intensity         Hue       OD280      Proline  \n",
       "count       161.000000  161.000000  161.000000   161.000000  \n",
       "mean          5.033913    0.956932    2.619876   753.819876  \n",
       "std           2.155207    0.217376    0.713409   317.816297  \n",
       "min           1.280000    0.540000    1.270000   278.000000  \n",
       "25%           3.270000    0.790000    2.000000   502.000000  \n",
       "50%           4.800000    0.960000    2.780000   675.000000  \n",
       "75%           6.200000    1.120000    3.180000  1020.000000  \n",
       "max          10.680000    1.450000    4.000000  1680.000000  "
      ]
     },
     "execution_count": 143,
     "metadata": {},
     "output_type": "execute_result"
    }
   ],
   "source": [
    "data.describe()"
   ]
  },
  {
   "cell_type": "markdown",
   "id": "0391e0a4",
   "metadata": {},
   "source": [
    "# Managing Outliers"
   ]
  },
  {
   "cell_type": "code",
   "execution_count": 36,
   "id": "6632ebe4",
   "metadata": {},
   "outputs": [
    {
     "data": {
      "image/png": "[encoded data removed]",
      "text/plain": [
       "<Figure size 432x288 with 1 Axes>"
      ]
     },
     "metadata": {
      "needs_background": "light"
     },
     "output_type": "display_data"
    },
    {
     "data": {
      "image/png": "[encoded data removed]",
      "text/plain": [
       "<Figure size 432x288 with 1 Axes>"
      ]
     },
     "metadata": {
      "needs_background": "light"
     },
     "output_type": "display_data"
    },
    {
     "data": {
      "image/png": "[encoded data removed]",
      "text/plain": [
       "<Figure size 432x288 with 1 Axes>"
      ]
     },
     "metadata": {
      "needs_background": "light"
     },
     "output_type": "display_data"
    },
    {
     "data": {
      "image/png": "[encoded data removed]",
      "text/plain": [
       "<Figure size 432x288 with 1 Axes>"
      ]
     },
     "metadata": {
      "needs_background": "light"
     },
     "output_type": "display_data"
    },
    {
     "data": {
      "image/png": "[encoded data removed]",
      "text/plain": [
       "<Figure size 432x288 with 1 Axes>"
      ]
     },
     "metadata": {
      "needs_background": "light"
     },
     "output_type": "display_data"
    },
    {
     "data": {
      "image/png": "[encoded data removed]",
      "text/plain": [
       "<Figure size 432x288 with 1 Axes>"
      ]
     },
     "metadata": {
      "needs_background": "light"
     },
     "output_type": "display_data"
    },
    {
     "data": {
      "image/png": "[encoded data removed]",
      "text/plain": [
       "<Figure size 432x288 with 1 Axes>"
      ]
     },
     "metadata": {
      "needs_background": "light"
     },
     "output_type": "display_data"
    },
    {
     "data": {
      "image/png": "[encoded data removed]",
      "text/plain": [
       "<Figure size 432x288 with 1 Axes>"
      ]
     },
     "metadata": {
      "needs_background": "light"
     },
     "output_type": "display_data"
    },
    {
     "data": {
      "image/png": "[encoded data removed]",
      "text/plain": [
       "<Figure size 432x288 with 1 Axes>"
      ]
     },
     "metadata": {
      "needs_background": "light"
     },
     "output_type": "display_data"
    },
    {
     "data": {
      "image/png": "[encoded data removed]",
      "text/plain": [
       "<Figure size 432x288 with 1 Axes>"
      ]
     },
     "metadata": {
      "needs_background": "light"
     },
     "output_type": "display_data"
    },
    {
     "data": {
      "image/png": "[encoded data removed]",
      "text/plain": [
       "<Figure size 432x288 with 1 Axes>"
      ]
     },
     "metadata": {
      "needs_background": "light"
     },
     "output_type": "display_data"
    },
    {
     "data": {
      "image/png": "[encoded data removed]",
      "text/plain": [
       "<Figure size 432x288 with 1 Axes>"
      ]
     },
     "metadata": {
      "needs_background": "light"
     },
     "output_type": "display_data"
    },
    {
     "data": {
      "image/png": "[encoded data removed]",
      "text/plain": [
       "<Figure size 432x288 with 1 Axes>"
      ]
     },
     "metadata": {
      "needs_background": "light"
     },
     "output_type": "display_data"
    }
   ],
   "source": [
    "\n",
    "for i in ['Alcohol', 'Malic_Acid', 'Ash', 'Ash_Alcanity','Magnesium','Total_Phenols','Flavanoids','Nonflavanoid_Phenols','Proanthocyanins','Color_Intensity','Hue','OD280','Proline']:\n",
    "    plt.figure()\n",
    "    plt.boxplot(data[i])\n",
    "    plt.title(i)"
   ]
  },
  {
   "cell_type": "code",
   "execution_count": 37,
   "id": "7dcdee82",
   "metadata": {},
   "outputs": [],
   "source": [
    "#Handling outliers:\n",
    "#Malic_Acid\n",
    "Q1=np.percentile(data['Malic_Acid'],25,interpolation='midpoint')\n",
    "Q2=np.percentile(data['Malic_Acid'],50,interpolation='midpoint')\n",
    "Q3=np.percentile(data['Malic_Acid'],75,interpolation='midpoint')"
   ]
  },
  {
   "cell_type": "code",
   "execution_count": 51,
   "id": "fba3d847",
   "metadata": {},
   "outputs": [
    {
     "data": {
      "text/plain": [
       "1.46"
      ]
     },
     "execution_count": 51,
     "metadata": {},
     "output_type": "execute_result"
    }
   ],
   "source": [
    "IQR=Q3-Q1\n",
    "IQR"
   ]
  },
  {
   "cell_type": "code",
   "execution_count": 41,
   "id": "5abbb0c4",
   "metadata": {},
   "outputs": [],
   "source": [
    "low_lim=Q1-(1.5*IQR)\n",
    "up_lim=Q3+(1.5*IQR)\n",
    "outlier1 = []"
   ]
  },
  {
   "cell_type": "code",
   "execution_count": 43,
   "id": "8629ff5e",
   "metadata": {},
   "outputs": [],
   "source": [
    "for x in data['Malic_Acid']:\n",
    "    if((x>up_lim) or (x<low_lim)):\n",
    "        outlier1.append(x)"
   ]
  },
  {
   "cell_type": "code",
   "execution_count": 44,
   "id": "56d6a80c",
   "metadata": {},
   "outputs": [
    {
     "data": {
      "text/plain": [
       "[5.8, 5.51, 5.65]"
      ]
     },
     "execution_count": 44,
     "metadata": {},
     "output_type": "execute_result"
    }
   ],
   "source": [
    "outlier1"
   ]
  },
  {
   "cell_type": "code",
   "execution_count": 45,
   "id": "0d53a297",
   "metadata": {},
   "outputs": [
    {
     "data": {
      "text/plain": [
       "Int64Index([123, 137, 173], dtype='int64')"
      ]
     },
     "execution_count": 45,
     "metadata": {},
     "output_type": "execute_result"
    }
   ],
   "source": [
    "ind1=data['Malic_Acid']>up_lim\n",
    "data.loc[ind1].index "
   ]
  },
  {
   "cell_type": "code",
   "execution_count": 46,
   "id": "510dca36",
   "metadata": {},
   "outputs": [],
   "source": [
    "data.drop([123,137,173],inplace=True)"
   ]
  },
  {
   "cell_type": "code",
   "execution_count": 52,
   "id": "a1a64450",
   "metadata": {},
   "outputs": [],
   "source": [
    "#Ash:\n",
    "Q1=np.percentile(data['Ash'],25,interpolation='midpoint')\n",
    "Q2=np.percentile(data['Ash'],50,interpolation='midpoint')\n",
    "Q3=np.percentile(data['Ash'],75,interpolation='midpoint')"
   ]
  },
  {
   "cell_type": "code",
   "execution_count": 54,
   "id": "d5226d27",
   "metadata": {},
   "outputs": [],
   "source": [
    "IQR=Q3-Q1"
   ]
  },
  {
   "cell_type": "code",
   "execution_count": 57,
   "id": "4bd6a1aa",
   "metadata": {},
   "outputs": [],
   "source": [
    "low_lim=Q1-(1.5*IQR)\n",
    "up_lim=Q3+(1.5*IQR)\n",
    "outlier= []"
   ]
  },
  {
   "cell_type": "code",
   "execution_count": 58,
   "id": "e5dc22cf",
   "metadata": {},
   "outputs": [],
   "source": [
    "for x in data['Ash']:\n",
    "    if((x>up_lim) or (x<low_lim)):\n",
    "        outlier.append(x)"
   ]
  },
  {
   "cell_type": "code",
   "execution_count": 60,
   "id": "1cd513aa",
   "metadata": {},
   "outputs": [
    {
     "data": {
      "text/plain": [
       "Int64Index([59], dtype='int64')"
      ]
     },
     "execution_count": 60,
     "metadata": {},
     "output_type": "execute_result"
    }
   ],
   "source": [
    "ind1=data['Ash']<low_lim\n",
    "data.loc[ind1].index"
   ]
  },
  {
   "cell_type": "code",
   "execution_count": 61,
   "id": "c9528a45",
   "metadata": {},
   "outputs": [
    {
     "data": {
      "text/plain": [
       "Int64Index([25, 121], dtype='int64')"
      ]
     },
     "execution_count": 61,
     "metadata": {},
     "output_type": "execute_result"
    }
   ],
   "source": [
    "ind1=data['Ash']>up_lim\n",
    "data.loc[ind1].index "
   ]
  },
  {
   "cell_type": "code",
   "execution_count": 62,
   "id": "87fbfa1f",
   "metadata": {},
   "outputs": [],
   "source": [
    "data.drop([59,25,121],inplace=True)"
   ]
  },
  {
   "cell_type": "code",
   "execution_count": 72,
   "id": "d7cac236",
   "metadata": {},
   "outputs": [],
   "source": [
    "#Ash_Alcanity:\n",
    "Q1=np.percentile(data['Ash_Alcanity'],25,interpolation='midpoint')\n",
    "Q2=np.percentile(data['Ash_Alcanity'],50,interpolation='midpoint')\n",
    "Q3=np.percentile(data['Ash_Alcanity'],75,interpolation='midpoint')"
   ]
  },
  {
   "cell_type": "code",
   "execution_count": 73,
   "id": "0952aec9",
   "metadata": {},
   "outputs": [],
   "source": [
    "IQR=Q3-Q1"
   ]
  },
  {
   "cell_type": "code",
   "execution_count": 74,
   "id": "f711cda4",
   "metadata": {},
   "outputs": [],
   "source": [
    "low_lim=Q1-(1.5*IQR)\n",
    "up_lim=Q3+(1.5*IQR)\n",
    "outlier2= []"
   ]
  },
  {
   "cell_type": "code",
   "execution_count": 75,
   "id": "33fa04f4",
   "metadata": {},
   "outputs": [],
   "source": [
    "for x in data['Ash_Alcanity']:\n",
    "    if((x>up_lim) or (x<low_lim)):\n",
    "        outlier2.append(x)"
   ]
  },
  {
   "cell_type": "code",
   "execution_count": 76,
   "id": "94bdeb6f",
   "metadata": {},
   "outputs": [
    {
     "data": {
      "text/plain": [
       "[30.0, 28.5]"
      ]
     },
     "execution_count": 76,
     "metadata": {},
     "output_type": "execute_result"
    }
   ],
   "source": [
    "outlier2"
   ]
  },
  {
   "cell_type": "code",
   "execution_count": 77,
   "id": "fe022179",
   "metadata": {},
   "outputs": [
    {
     "data": {
      "text/plain": [
       "Int64Index([], dtype='int64')"
      ]
     },
     "execution_count": 77,
     "metadata": {},
     "output_type": "execute_result"
    }
   ],
   "source": [
    "ind1=data['Ash_Alcanity']<low_lim\n",
    "data.loc[ind1].index"
   ]
  },
  {
   "cell_type": "code",
   "execution_count": 78,
   "id": "c279df79",
   "metadata": {},
   "outputs": [
    {
     "data": {
      "text/plain": [
       "Int64Index([73, 127], dtype='int64')"
      ]
     },
     "execution_count": 78,
     "metadata": {},
     "output_type": "execute_result"
    }
   ],
   "source": [
    "ind1=data['Ash_Alcanity']>up_lim\n",
    "data.loc[ind1].index "
   ]
  },
  {
   "cell_type": "code",
   "execution_count": 79,
   "id": "7626f289",
   "metadata": {},
   "outputs": [],
   "source": [
    "data.drop([73,127],inplace=True)"
   ]
  },
  {
   "cell_type": "code",
   "execution_count": 93,
   "id": "27fde8eb",
   "metadata": {},
   "outputs": [],
   "source": [
    "#Magnesium:\n",
    "Q1=np.percentile(data['Magnesium'],25,interpolation='midpoint')\n",
    "Q2=np.percentile(data['Magnesium'],50,interpolation='midpoint')\n",
    "Q3=np.percentile(data['Magnesium'],75,interpolation='midpoint')"
   ]
  },
  {
   "cell_type": "code",
   "execution_count": 94,
   "id": "441d2329",
   "metadata": {},
   "outputs": [
    {
     "data": {
      "text/plain": [
       "19.0"
      ]
     },
     "execution_count": 94,
     "metadata": {},
     "output_type": "execute_result"
    }
   ],
   "source": [
    "IQR=Q3-Q1\n",
    "IQR"
   ]
  },
  {
   "cell_type": "code",
   "execution_count": 95,
   "id": "66a1b0e2",
   "metadata": {},
   "outputs": [],
   "source": [
    "low_lim=Q1-(1.5*IQR)\n",
    "up_lim=Q3+(1.5*IQR)\n"
   ]
  },
  {
   "cell_type": "code",
   "execution_count": 96,
   "id": "7ec05f37",
   "metadata": {},
   "outputs": [],
   "source": [
    "outlier3= []\n",
    "for x in data['Magnesium']:\n",
    "    if((x>up_lim) or (x<low_lim)):\n",
    "        outlier3.append(x)"
   ]
  },
  {
   "cell_type": "code",
   "execution_count": 97,
   "id": "c60938dd",
   "metadata": {},
   "outputs": [
    {
     "data": {
      "text/plain": [
       "[151, 136, 162]"
      ]
     },
     "execution_count": 97,
     "metadata": {},
     "output_type": "execute_result"
    }
   ],
   "source": [
    "outlier3"
   ]
  },
  {
   "cell_type": "code",
   "execution_count": 98,
   "id": "be2ce0de",
   "metadata": {},
   "outputs": [
    {
     "data": {
      "text/plain": [
       "Int64Index([69, 78, 95], dtype='int64')"
      ]
     },
     "execution_count": 98,
     "metadata": {},
     "output_type": "execute_result"
    }
   ],
   "source": [
    "ind1=data['Magnesium']>up_lim\n",
    "data.loc[ind1].index "
   ]
  },
  {
   "cell_type": "code",
   "execution_count": 99,
   "id": "6f23bfc6",
   "metadata": {},
   "outputs": [],
   "source": [
    "data.drop([69,78,95],inplace=True)"
   ]
  },
  {
   "cell_type": "code",
   "execution_count": 101,
   "id": "d5691692",
   "metadata": {},
   "outputs": [],
   "source": [
    "#Proanthocyanins:\n",
    "Q1=np.percentile(data['Proanthocyanins'],25,interpolation='midpoint')\n",
    "Q2=np.percentile(data['Proanthocyanins'],50,interpolation='midpoint')\n",
    "Q3=np.percentile(data['Proanthocyanins'],75,interpolation='midpoint')"
   ]
  },
  {
   "cell_type": "code",
   "execution_count": 102,
   "id": "2bf18c33",
   "metadata": {},
   "outputs": [
    {
     "data": {
      "text/plain": [
       "0.6749999999999998"
      ]
     },
     "execution_count": 102,
     "metadata": {},
     "output_type": "execute_result"
    }
   ],
   "source": [
    "IQR=Q3-Q1\n",
    "IQR"
   ]
  },
  {
   "cell_type": "code",
   "execution_count": 106,
   "id": "d2cb24b5",
   "metadata": {},
   "outputs": [],
   "source": [
    "low_lim=Q1-(1.5*IQR)\n",
    "up_lim=Q3+(1.5*IQR)"
   ]
  },
  {
   "cell_type": "code",
   "execution_count": 107,
   "id": "e31f96c6",
   "metadata": {},
   "outputs": [],
   "source": [
    "outlier4= []\n",
    "for x in data['Proanthocyanins']:\n",
    "    if((x>up_lim) or (x<low_lim)):\n",
    "        outlier4.append(x)"
   ]
  },
  {
   "cell_type": "code",
   "execution_count": 108,
   "id": "59d4b9fe",
   "metadata": {},
   "outputs": [
    {
     "data": {
      "text/plain": [
       "[2.96, 3.58]"
      ]
     },
     "execution_count": 108,
     "metadata": {},
     "output_type": "execute_result"
    }
   ],
   "source": [
    "outlier4"
   ]
  },
  {
   "cell_type": "code",
   "execution_count": 110,
   "id": "b41f7726",
   "metadata": {},
   "outputs": [
    {
     "data": {
      "text/plain": [
       "Int64Index([14, 110], dtype='int64')"
      ]
     },
     "execution_count": 110,
     "metadata": {},
     "output_type": "execute_result"
    }
   ],
   "source": [
    "ind1=data['Proanthocyanins']>up_lim\n",
    "data.loc[ind1].index "
   ]
  },
  {
   "cell_type": "code",
   "execution_count": 111,
   "id": "be6417c3",
   "metadata": {},
   "outputs": [],
   "source": [
    "data.drop([14,110],inplace=True)"
   ]
  },
  {
   "cell_type": "code",
   "execution_count": 115,
   "id": "4397d062",
   "metadata": {},
   "outputs": [],
   "source": [
    "#Color_Intensity:\n",
    "Q1=np.percentile(data['Color_Intensity'],25,interpolation='midpoint')\n",
    "Q2=np.percentile(data['Color_Intensity'],50,interpolation='midpoint')\n",
    "Q3=np.percentile(data['Color_Intensity'],75,interpolation='midpoint')"
   ]
  },
  {
   "cell_type": "code",
   "execution_count": 116,
   "id": "eb32c5db",
   "metadata": {},
   "outputs": [
    {
     "data": {
      "text/plain": [
       "2.98"
      ]
     },
     "execution_count": 116,
     "metadata": {},
     "output_type": "execute_result"
    }
   ],
   "source": [
    "IQR=Q3-Q1\n",
    "IQR"
   ]
  },
  {
   "cell_type": "code",
   "execution_count": 117,
   "id": "d92aed64",
   "metadata": {},
   "outputs": [],
   "source": [
    "low_lim=Q1-(1.5*IQR)\n",
    "up_lim=Q3+(1.5*IQR)"
   ]
  },
  {
   "cell_type": "code",
   "execution_count": 118,
   "id": "ce494534",
   "metadata": {},
   "outputs": [],
   "source": [
    "outlier5= []\n",
    "for x in data['Color_Intensity']:\n",
    "    if((x>up_lim) or (x<low_lim)):\n",
    "        outlier5.append(x)"
   ]
  },
  {
   "cell_type": "code",
   "execution_count": 119,
   "id": "9f2f5424",
   "metadata": {},
   "outputs": [
    {
     "data": {
      "text/plain": [
       "[10.8, 13.0, 11.75]"
      ]
     },
     "execution_count": 119,
     "metadata": {},
     "output_type": "execute_result"
    }
   ],
   "source": [
    "outlier5"
   ]
  },
  {
   "cell_type": "code",
   "execution_count": 120,
   "id": "db05d9d3",
   "metadata": {},
   "outputs": [
    {
     "data": {
      "text/plain": [
       "Int64Index([151, 158, 159], dtype='int64')"
      ]
     },
     "execution_count": 120,
     "metadata": {},
     "output_type": "execute_result"
    }
   ],
   "source": [
    "ind1=data['Color_Intensity']>up_lim\n",
    "data.loc[ind1].index "
   ]
  },
  {
   "cell_type": "code",
   "execution_count": 121,
   "id": "64133500",
   "metadata": {},
   "outputs": [],
   "source": [
    "data.drop([151,158,159],inplace=True)"
   ]
  },
  {
   "cell_type": "code",
   "execution_count": 122,
   "id": "1b26b174",
   "metadata": {},
   "outputs": [],
   "source": [
    "#Hue:\n",
    "Q1=np.percentile(data['Hue'],25,interpolation='midpoint')\n",
    "Q2=np.percentile(data['Hue'],50,interpolation='midpoint')\n",
    "Q3=np.percentile(data['Hue'],75,interpolation='midpoint')"
   ]
  },
  {
   "cell_type": "code",
   "execution_count": 123,
   "id": "01b0d2dd",
   "metadata": {},
   "outputs": [
    {
     "data": {
      "text/plain": [
       "0.32500000000000007"
      ]
     },
     "execution_count": 123,
     "metadata": {},
     "output_type": "execute_result"
    }
   ],
   "source": [
    "IQR=Q3-Q1\n",
    "IQR"
   ]
  },
  {
   "cell_type": "code",
   "execution_count": 124,
   "id": "f6a35653",
   "metadata": {},
   "outputs": [],
   "source": [
    "low_lim=Q1-(1.5*IQR)\n",
    "up_lim=Q3+(1.5*IQR)"
   ]
  },
  {
   "cell_type": "code",
   "execution_count": 125,
   "id": "2eb4e95c",
   "metadata": {},
   "outputs": [],
   "source": [
    "outlier6= []\n",
    "for x in data['Hue']:\n",
    "    if((x>up_lim) or (x<low_lim)):\n",
    "        outlier6.append(x)"
   ]
  },
  {
   "cell_type": "code",
   "execution_count": 126,
   "id": "268e65bc",
   "metadata": {},
   "outputs": [
    {
     "data": {
      "text/plain": [
       "[1.71]"
      ]
     },
     "execution_count": 126,
     "metadata": {},
     "output_type": "execute_result"
    }
   ],
   "source": [
    "outlier6"
   ]
  },
  {
   "cell_type": "code",
   "execution_count": 127,
   "id": "8a98c55e",
   "metadata": {},
   "outputs": [
    {
     "data": {
      "text/plain": [
       "Int64Index([115], dtype='int64')"
      ]
     },
     "execution_count": 127,
     "metadata": {},
     "output_type": "execute_result"
    }
   ],
   "source": [
    "ind1=data['Hue']>up_lim\n",
    "data.loc[ind1].index "
   ]
  },
  {
   "cell_type": "code",
   "execution_count": 128,
   "id": "9318232e",
   "metadata": {},
   "outputs": [],
   "source": [
    "data.drop([115],inplace=True)"
   ]
  },
  {
   "cell_type": "markdown",
   "id": "bcd0aaa9",
   "metadata": {},
   "source": [
    "# Kmean:"
   ]
  },
  {
   "cell_type": "code",
   "execution_count": 129,
   "id": "c3491171",
   "metadata": {},
   "outputs": [],
   "source": [
    "from sklearn.cluster import KMeans\n",
    "wcss=[]"
   ]
  },
  {
   "cell_type": "code",
   "execution_count": 130,
   "id": "2886c587",
   "metadata": {},
   "outputs": [
    {
     "name": "stderr",
     "output_type": "stream",
     "text": [
      "C:\\Users\\HP\\anaconda3\\lib\\site-packages\\sklearn\\cluster\\_kmeans.py:1036: UserWarning: KMeans is known to have a memory leak on Windows with MKL, when there are less chunks than available threads. You can avoid it by setting the environment variable OMP_NUM_THREADS=1.\n",
      "  warnings.warn(\n"
     ]
    }
   ],
   "source": [
    "for i in range(1,14):\n",
    "    kmeans=KMeans(n_clusters=i,init='k-means++',random_state=42)\n",
    "    kmeans.fit(data)\n",
    "    wcss.append(kmeans.inertia_)"
   ]
  },
  {
   "cell_type": "code",
   "execution_count": 131,
   "id": "afbf60c5",
   "metadata": {},
   "outputs": [
    {
     "data": {
      "text/plain": [
       "[16188555.340349523,\n",
       " 4040536.7356572137,\n",
       " 2091944.4170953613,\n",
       " 1197934.6970813845,\n",
       " 801478.885710718,\n",
       " 571001.2363898355,\n",
       " 361093.63079508225,\n",
       " 290164.36039409507,\n",
       " 239840.7082265319,\n",
       " 192601.7280070637,\n",
       " 160617.22208520042,\n",
       " 135621.52802655348,\n",
       " 115296.7535107152]"
      ]
     },
     "execution_count": 131,
     "metadata": {},
     "output_type": "execute_result"
    }
   ],
   "source": [
    "wcss"
   ]
  },
  {
   "cell_type": "code",
   "execution_count": 132,
   "id": "571e9952",
   "metadata": {},
   "outputs": [],
   "source": [
    "#Elbow Method"
   ]
  },
  {
   "cell_type": "code",
   "execution_count": 133,
   "id": "68dbe319",
   "metadata": {},
   "outputs": [
    {
     "data": {
      "image/png": "[encoded data removed]",
      "text/plain": [
       "<Figure size 432x288 with 1 Axes>"
      ]
     },
     "metadata": {
      "needs_background": "light"
     },
     "output_type": "display_data"
    }
   ],
   "source": [
    "plt.plot(range(1,14),wcss)\n",
    "plt.title('Elbow method')\n",
    "plt.show()"
   ]
  },
  {
   "cell_type": "code",
   "execution_count": 19,
   "id": "a9528647",
   "metadata": {},
   "outputs": [],
   "source": [
    "#From the above graph we can decide that the optimum number of cluster is 2."
   ]
  },
  {
   "cell_type": "code",
   "execution_count": 134,
   "id": "ffc4e650",
   "metadata": {},
   "outputs": [],
   "source": [
    "kmeans=KMeans(n_clusters=2,init='k-means++',random_state=42)\n",
    "y_kmeans=kmeans.fit_predict(data)"
   ]
  },
  {
   "cell_type": "code",
   "execution_count": 135,
   "id": "1a377b62",
   "metadata": {},
   "outputs": [
    {
     "data": {
      "text/plain": [
       "array([1, 1, 1, 1, 0, 1, 1, 1, 1, 1, 1, 1, 1, 1, 1, 1, 1, 1, 0, 0, 0, 1,\n",
       "       1, 0, 1, 1, 1, 1, 1, 1, 1, 1, 1, 1, 1, 1, 1, 0, 0, 1, 1, 0, 1, 1,\n",
       "       1, 1, 1, 1, 1, 1, 1, 1, 1, 1, 1, 1, 1, 0, 0, 0, 0, 0, 0, 0, 0, 0,\n",
       "       1, 0, 0, 1, 0, 0, 0, 0, 0, 0, 0, 0, 0, 0, 0, 0, 0, 0, 0, 0, 0, 0,\n",
       "       0, 0, 0, 0, 0, 0, 0, 0, 0, 0, 0, 0, 0, 0, 0, 0, 0, 0, 0, 0, 0, 0,\n",
       "       0, 0, 0, 0, 0, 0, 0, 0, 0, 0, 0, 0, 0, 0, 0, 0, 0, 0, 0, 0, 0, 0,\n",
       "       0, 0, 0, 0, 0, 0, 0, 0, 0, 0, 0, 1, 0, 0, 0, 0, 0, 0, 0, 0, 0, 0,\n",
       "       0, 0, 0, 0, 0, 0, 0])"
      ]
     },
     "execution_count": 135,
     "metadata": {},
     "output_type": "execute_result"
    }
   ],
   "source": [
    "y_kmeans"
   ]
  },
  {
   "cell_type": "code",
   "execution_count": 136,
   "id": "fd9a0869",
   "metadata": {},
   "outputs": [
    {
     "name": "stdout",
     "output_type": "stream",
     "text": [
      "0.6599516439224017\n"
     ]
    }
   ],
   "source": [
    "#silhouette_score\n",
    "\n",
    "from sklearn.metrics import silhouette_score\n",
    "silhouette_sc=silhouette_score(data,y_kmeans)\n",
    "print(silhouette_sc)"
   ]
  },
  {
   "cell_type": "markdown",
   "id": "f0381a34",
   "metadata": {},
   "source": [
    "# Agglomerative HC"
   ]
  },
  {
   "cell_type": "code",
   "execution_count": 23,
   "id": "d48cd0f0",
   "metadata": {},
   "outputs": [],
   "source": [
    "#Plotting Dendogram"
   ]
  },
  {
   "cell_type": "code",
   "execution_count": 24,
   "id": "6087d112",
   "metadata": {},
   "outputs": [],
   "source": [
    "import scipy.cluster.hierarchy as sch"
   ]
  },
  {
   "cell_type": "code",
   "execution_count": 137,
   "id": "94edd3ee",
   "metadata": {},
   "outputs": [
    {
     "data": {
      "image/png": "[encoded data removed]",
      "text/plain": [
       "<Figure size 432x288 with 1 Axes>"
      ]
     },
     "metadata": {
      "needs_background": "light"
     },
     "output_type": "display_data"
    }
   ],
   "source": [
    "dendrogram=sch.dendrogram(sch.linkage(data,method='ward'))\n",
    "plt.title(\"Dendrogram\")\n",
    "plt.show()"
   ]
  },
  {
   "cell_type": "code",
   "execution_count": 138,
   "id": "7b445322",
   "metadata": {},
   "outputs": [],
   "source": [
    "#From the above Dendrogram we can decide that the optimum number of cluster is 2."
   ]
  },
  {
   "cell_type": "code",
   "execution_count": null,
   "id": "2c62faf6",
   "metadata": {},
   "outputs": [],
   "source": [
    "# Calculating silhouette_score:\n",
    "from sklearn.cluster import AgglomerativeClustering"
   ]
  },
  {
   "cell_type": "code",
   "execution_count": 140,
   "id": "31a65d6a",
   "metadata": {},
   "outputs": [],
   "source": [
    "hc=AgglomerativeClustering(n_clusters=2,affinity='euclidean',linkage='ward')"
   ]
  },
  {
   "cell_type": "code",
   "execution_count": 141,
   "id": "ab9d6dfa",
   "metadata": {},
   "outputs": [],
   "source": [
    "y_hc=hc.fit_predict(data)"
   ]
  },
  {
   "cell_type": "code",
   "execution_count": 142,
   "id": "6e83654a",
   "metadata": {},
   "outputs": [
    {
     "name": "stdout",
     "output_type": "stream",
     "text": [
      "0.6543246376053309\n"
     ]
    }
   ],
   "source": [
    "silhouette_avg=silhouette_score(data,y_hc)\n",
    "print(silhouette_avg)"
   ]
  },
  {
   "cell_type": "markdown",
   "id": "26523478",
   "metadata": {},
   "source": [
    "# PCA"
   ]
  },
  {
   "cell_type": "code",
   "execution_count": 146,
   "id": "208b16e0",
   "metadata": {},
   "outputs": [],
   "source": [
    "from sklearn.preprocessing import StandardScaler\n",
    "sc=StandardScaler()"
   ]
  },
  {
   "cell_type": "code",
   "execution_count": 147,
   "id": "1b99306f",
   "metadata": {},
   "outputs": [
    {
     "data": {
      "text/plain": [
       "array([[ 1.51516332, -0.57916566,  0.27093638, ...,  0.3833328 ,\n",
       "         1.82809675,  0.98217445],\n",
       "       [ 0.20964771, -0.51250719, -0.93153695, ...,  0.42947949,\n",
       "         1.09692792,  0.93483012],\n",
       "       [ 0.15894808,  0.03980581,  1.26608672, ...,  0.33718612,\n",
       "         0.77352632,  1.36092915],\n",
       "       ...,\n",
       "       [ 0.29837208,  1.8681523 , -0.43396178, ..., -1.69326819,\n",
       "        -1.49028487,  0.25622795],\n",
       "       [ 0.17162299,  0.25882648,  0.02214879, ..., -1.6471215 ,\n",
       "        -1.40591924,  0.27200939],\n",
       "       [ 1.38841423,  1.69674482,  1.5563389 , ..., -1.60097481,\n",
       "        -1.43404112, -0.61175157]])"
      ]
     },
     "execution_count": 147,
     "metadata": {},
     "output_type": "execute_result"
    }
   ],
   "source": [
    "scaled_data=sc.fit_transform(data)\n",
    "scaled_data"
   ]
  },
  {
   "cell_type": "code",
   "execution_count": 148,
   "id": "886422ab",
   "metadata": {},
   "outputs": [],
   "source": [
    "scaled_data=pd.DataFrame(scaled_data,columns=data.columns)"
   ]
  },
  {
   "cell_type": "code",
   "execution_count": 149,
   "id": "6842fa23",
   "metadata": {},
   "outputs": [
    {
     "data": {
      "text/plain": [
       "pandas.core.frame.DataFrame"
      ]
     },
     "execution_count": 149,
     "metadata": {},
     "output_type": "execute_result"
    }
   ],
   "source": [
    "type(scaled_data)"
   ]
  },
  {
   "cell_type": "code",
   "execution_count": 150,
   "id": "fe37761c",
   "metadata": {},
   "outputs": [
    {
     "data": {
      "text/html": [
       "<div>\n",
       "<style scoped>\n",
       "    .dataframe tbody tr th:only-of-type {\n",
       "        vertical-align: middle;\n",
       "    }\n",
       "\n",
       "    .dataframe tbody tr th {\n",
       "        vertical-align: top;\n",
       "    }\n",
       "\n",
       "    .dataframe thead th {\n",
       "        text-align: right;\n",
       "    }\n",
       "</style>\n",
       "<table border=\"1\" class=\"dataframe\">\n",
       "  <thead>\n",
       "    <tr style=\"text-align: right;\">\n",
       "      <th></th>\n",
       "      <th>Alcohol</th>\n",
       "      <th>Malic_Acid</th>\n",
       "      <th>Ash</th>\n",
       "      <th>Ash_Alcanity</th>\n",
       "      <th>Magnesium</th>\n",
       "      <th>Total_Phenols</th>\n",
       "      <th>Flavanoids</th>\n",
       "      <th>Nonflavanoid_Phenols</th>\n",
       "      <th>Proanthocyanins</th>\n",
       "      <th>Color_Intensity</th>\n",
       "      <th>Hue</th>\n",
       "      <th>OD280</th>\n",
       "      <th>Proline</th>\n",
       "    </tr>\n",
       "  </thead>\n",
       "  <tbody>\n",
       "    <tr>\n",
       "      <th>0</th>\n",
       "      <td>1.515163</td>\n",
       "      <td>-0.579166</td>\n",
       "      <td>0.270936</td>\n",
       "      <td>-1.248144</td>\n",
       "      <td>2.298023</td>\n",
       "      <td>0.828643</td>\n",
       "      <td>1.055948</td>\n",
       "      <td>-0.650569</td>\n",
       "      <td>1.466583</td>\n",
       "      <td>0.282097</td>\n",
       "      <td>0.383333</td>\n",
       "      <td>1.828097</td>\n",
       "      <td>0.982174</td>\n",
       "    </tr>\n",
       "    <tr>\n",
       "      <th>1</th>\n",
       "      <td>0.209648</td>\n",
       "      <td>-0.512507</td>\n",
       "      <td>-0.931537</td>\n",
       "      <td>-2.732175</td>\n",
       "      <td>0.114047</td>\n",
       "      <td>0.589411</td>\n",
       "      <td>0.749315</td>\n",
       "      <td>-0.815257</td>\n",
       "      <td>-0.505150</td>\n",
       "      <td>-0.304357</td>\n",
       "      <td>0.429479</td>\n",
       "      <td>1.096928</td>\n",
       "      <td>0.934830</td>\n",
       "    </tr>\n",
       "    <tr>\n",
       "      <th>2</th>\n",
       "      <td>0.158948</td>\n",
       "      <td>0.039806</td>\n",
       "      <td>1.266087</td>\n",
       "      <td>-0.236305</td>\n",
       "      <td>0.194935</td>\n",
       "      <td>0.828643</td>\n",
       "      <td>1.239928</td>\n",
       "      <td>-0.485881</td>\n",
       "      <td>2.481732</td>\n",
       "      <td>0.300715</td>\n",
       "      <td>0.337186</td>\n",
       "      <td>0.773526</td>\n",
       "      <td>1.360929</td>\n",
       "    </tr>\n",
       "  </tbody>\n",
       "</table>\n",
       "</div>"
      ],
      "text/plain": [
       "    Alcohol  Malic_Acid       Ash  Ash_Alcanity  Magnesium  Total_Phenols  \\\n",
       "0  1.515163   -0.579166  0.270936     -1.248144   2.298023       0.828643   \n",
       "1  0.209648   -0.512507 -0.931537     -2.732175   0.114047       0.589411   \n",
       "2  0.158948    0.039806  1.266087     -0.236305   0.194935       0.828643   \n",
       "\n",
       "   Flavanoids  Nonflavanoid_Phenols  Proanthocyanins  Color_Intensity  \\\n",
       "0    1.055948             -0.650569         1.466583         0.282097   \n",
       "1    0.749315             -0.815257        -0.505150        -0.304357   \n",
       "2    1.239928             -0.485881         2.481732         0.300715   \n",
       "\n",
       "        Hue     OD280   Proline  \n",
       "0  0.383333  1.828097  0.982174  \n",
       "1  0.429479  1.096928  0.934830  \n",
       "2  0.337186  0.773526  1.360929  "
      ]
     },
     "execution_count": 150,
     "metadata": {},
     "output_type": "execute_result"
    }
   ],
   "source": [
    "scaled_data.head(3)"
   ]
  },
  {
   "cell_type": "code",
   "execution_count": 151,
   "id": "a3e825bb",
   "metadata": {},
   "outputs": [],
   "source": [
    "from sklearn.decomposition import PCA"
   ]
  },
  {
   "cell_type": "code",
   "execution_count": 152,
   "id": "8e9f6416",
   "metadata": {},
   "outputs": [],
   "source": [
    "pca=PCA(n_components=10)\n",
    "x_pca=pca.fit_transform(scaled_data)"
   ]
  },
  {
   "cell_type": "code",
   "execution_count": 153,
   "id": "b752a2de",
   "metadata": {},
   "outputs": [
    {
     "data": {
      "text/plain": [
       "array([0.38552403, 0.20659478, 0.09511346, 0.06982522, 0.0570396 ,\n",
       "       0.0430487 , 0.03540683, 0.02650788, 0.02392518, 0.02007854])"
      ]
     },
     "execution_count": 153,
     "metadata": {},
     "output_type": "execute_result"
    }
   ],
   "source": [
    "pca.explained_variance_ratio_"
   ]
  },
  {
   "cell_type": "code",
   "execution_count": 154,
   "id": "fe652b37",
   "metadata": {},
   "outputs": [
    {
     "data": {
      "text/plain": [
       "0.9630642071378281"
      ]
     },
     "execution_count": 154,
     "metadata": {},
     "output_type": "execute_result"
    }
   ],
   "source": [
    "np.sum(pca.explained_variance_ratio_)"
   ]
  },
  {
   "cell_type": "markdown",
   "id": "5a0a8994",
   "metadata": {},
   "source": [
    "# DBSCAN"
   ]
  },
  {
   "cell_type": "code",
   "execution_count": 155,
   "id": "152710e7",
   "metadata": {},
   "outputs": [],
   "source": [
    "from sklearn.cluster import DBSCAN"
   ]
  },
  {
   "cell_type": "code",
   "execution_count": 156,
   "id": "ca7b2480",
   "metadata": {},
   "outputs": [],
   "source": [
    "eps=3 #setting DBSCAN hyperparameters\n",
    "min_samples=20"
   ]
  },
  {
   "cell_type": "code",
   "execution_count": 157,
   "id": "21ac69bd",
   "metadata": {},
   "outputs": [],
   "source": [
    "#fit DBSCAN\n",
    "dbscan=DBSCAN(eps=eps,min_samples=min_samples)\n",
    "y_dbscan=dbscan.fit_predict(scaled_data)"
   ]
  },
  {
   "cell_type": "code",
   "execution_count": 159,
   "id": "b3575363",
   "metadata": {},
   "outputs": [],
   "source": [
    "data[\"DBSCAN_Cluster\"]=y_dbscan"
   ]
  },
  {
   "cell_type": "code",
   "execution_count": 160,
   "id": "f6410c75",
   "metadata": {},
   "outputs": [],
   "source": [
    "data1=data[data[\"DBSCAN_Cluster\"]==0]    #Cluster 0 datapoints\n",
    "data2=data[data[\"DBSCAN_Cluster\"]==1]    #Cluster 1 datapoints\n",
    "data3=data[data[\"DBSCAN_Cluster\"]==-1]   #Cluster 2 datapoints"
   ]
  },
  {
   "cell_type": "code",
   "execution_count": 163,
   "id": "123067ff",
   "metadata": {},
   "outputs": [
    {
     "data": {
      "image/png": "[encoded data removed]",
      "text/plain": [
       "<Figure size 720x576 with 1 Axes>"
      ]
     },
     "metadata": {
      "needs_background": "light"
     },
     "output_type": "display_data"
    }
   ],
   "source": [
    "#Since Alchol and Malic_Acid are the main ingrediant in wine it is plotted below\n",
    "#We can also plot any ingrident with other\n",
    "plt.figure(figsize=(10,8))\n",
    "sns.scatterplot(x='Alcohol',y='Malic_Acid',data=data1,color='green')\n",
    "sns.scatterplot(x='Alcohol',y='Malic_Acid',data=data2,color='blue')\n",
    "sns.scatterplot(x='Alcohol',y='Malic_Acid',data=data3,color='red')\n",
    "plt.title('Scatterplot')\n",
    "plt.xlabel('Alcohol')\n",
    "plt.ylabel('Malic_Acid')\n",
    "plt.show()"
   ]
  },
  {
   "cell_type": "code",
   "execution_count": 164,
   "id": "31400e72",
   "metadata": {},
   "outputs": [
    {
     "data": {
      "text/plain": [
       "0.21620005928195898"
      ]
     },
     "execution_count": 164,
     "metadata": {},
     "output_type": "execute_result"
    }
   ],
   "source": [
    "#Mean silhouette coefficient\n",
    "\n",
    "silhouette_avg = silhouette_score(scaled_data,y_dbscan)\n",
    "silhouette_avg"
   ]
  },
  {
   "cell_type": "code",
   "execution_count": null,
   "id": "0cc7b669",
   "metadata": {},
   "outputs": [],
   "source": []
  }
 ],
 "metadata": {
  "kernelspec": {
   "display_name": "Python 3 (ipykernel)",
   "language": "python",
   "name": "python3"
  },
  "language_info": {
   "codemirror_mode": {
    "name": "ipython",
    "version": 3
   },
   "file_extension": ".py",
   "mimetype": "text/x-python",
   "name": "python",
   "nbconvert_exporter": "python",
   "pygments_lexer": "ipython3",
   "version": "3.9.12"
  }
 },
 "nbformat": 4,
 "nbformat_minor": 5
}
